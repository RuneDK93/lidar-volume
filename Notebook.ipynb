{
 "cells": [
  {
   "cell_type": "markdown",
   "id": "4a98530d",
   "metadata": {},
   "source": [
    "\n",
    "### Notebook\n",
    "\n",
    "This is a notebook to check out the model. The notebook allows you to visualize individual scans, the identified objects and the estimated surfaces for the scans.\n"
   ]
  },
  {
   "cell_type": "code",
   "execution_count": 1,
   "id": "1edaa94c",
   "metadata": {},
   "outputs": [],
   "source": [
    "import open3d as o3d\n",
    "from scripts.preproc_functions import preproc, cluster_points\n",
    "from scripts.volume_functions import compute_poisson_volume\n",
    "from scripts.helper_functions import load_hyperparam_search_results\n",
    "from scripts.helper_functions import material_settings\n",
    "\n",
    "import itertools\n",
    "from itertools import product\n",
    "import numpy as np\n",
    "\n",
    "sample = \"sample7\"\n",
    "material = \"træ\"\n",
    "\n",
    "data = o3d.io.read_triangle_mesh(f\"Data/{material}/{sample}/textured_output.obj\")\n",
    "object_points = preproc(data,\n",
    "                        segment     = True,\n",
    "                        threshold   = 0.02,\n",
    "                        crop        = False,\n",
    "                        center      = True,\n",
    "                        n_points    = 100000)\n",
    "\n",
    "# Visualize only the preprocessed points\n",
    "#o3d.visualization.draw_geometries([object_points])\n",
    "\n",
    "# Visualize only the original data\n",
    "#o3d.visualization.draw_geometries([data])\n",
    "\n",
    "# Visualize the original data with the preprocessed pooints and a coordinate frame. \n",
    "#coordinate_frame = o3d.geometry.TriangleMesh.create_coordinate_frame(size=0.5, origin=[0, 0, 0])\n",
    "#o3d.visualization.draw_geometries([data,object_points,coordinate_frame])"
   ]
  },
  {
   "cell_type": "code",
   "execution_count": 2,
   "id": "be902028",
   "metadata": {},
   "outputs": [],
   "source": [
    "# Two-step cluster the preprocessed points.\n",
    "object_cluster = cluster_points(object_points,  choice=4, eps=0.1, min_points=10)\n",
    "object_cluster = cluster_points(object_cluster, choice=3, eps=0.03, min_points=10)\n",
    "\n",
    "# Visualize the clustered points    \n",
    "#o3d.visualization.draw_geometries([object_cluster])    "
   ]
  },
  {
   "cell_type": "code",
   "execution_count": 3,
   "id": "d9ef18bb",
   "metadata": {},
   "outputs": [
    {
     "name": "stdout",
     "output_type": "stream",
     "text": [
      "True Volume       5.15508\n",
      "Estimated volume: 5.32803 Liters\n",
      "Absolute error:   0.17 Liters\n",
      "Percentage error: 3.35 %\n"
     ]
    }
   ],
   "source": [
    "# Fetch the optimal parameters for a given material\n",
    "overestimation, ldt, true_volume = material_settings(material)\n",
    "\n",
    "# Compute volume\n",
    "volume, mesh = compute_poisson_volume(\n",
    "    object_cluster,\n",
    "    true_volume           = true_volume,\n",
    "    depth                 = 10,\n",
    "    low_density_threshold = ldt,\n",
    "    cut_mesh              = True,\n",
    "    close_mesh            = False,\n",
    "    close_mesh_adv        = True,\n",
    "    ground_threshold      = 1,\n",
    "    ground_level          = 'auto',\n",
    "    edge_threshold        = 1,\n",
    "    overestimation        = overestimation, \n",
    "    print_flag            = True\n",
    "                          )\n",
    "\n",
    "\n",
    "# Visualize the points and the mesh\n",
    "#o3d.visualization.draw_geometries([object_cluster,mesh],point_show_normal=True,mesh_show_back_face=False)\n",
    "\n",
    "#o3d.visualization.draw_geometries([mesh],point_show_normal=False)\n",
    "\n"
   ]
  },
  {
   "cell_type": "markdown",
   "id": "100d74e9",
   "metadata": {},
   "source": [
    "# Compute volume for a list of samples"
   ]
  },
  {
   "cell_type": "code",
   "execution_count": 4,
   "id": "602e036a",
   "metadata": {},
   "outputs": [
    {
     "name": "stdout",
     "output_type": "stream",
     "text": [
      "Running model on material iso (...)\n",
      "Running model on material mur (...)\n",
      "Running model on material gips (...)\n",
      "Running model on material træ (...)\n",
      "Running model on material es (...)\n",
      "Done!\n"
     ]
    }
   ],
   "source": [
    "from scripts.helper_functions import samples_run\n",
    "# Run over test data\n",
    "# Define list of materials\n",
    "materials = ['iso','mur','gips','træ','es']\n",
    "\n",
    "# Define the samples\n",
    "samples     = [\"sample5\",\n",
    "               \"sample6\", \n",
    "               \"sample7\", \n",
    "               \"sample8\"]\n",
    "\n",
    "pred_materials,errors_materials = samples_run(samples,materials)"
   ]
  },
  {
   "cell_type": "code",
   "execution_count": 5,
   "id": "65162cc1",
   "metadata": {},
   "outputs": [
    {
     "name": "stdout",
     "output_type": "stream",
     "text": [
      "Material: iso\n",
      "True Volume: 93.06 liters\n",
      "\n",
      "Predictions: [90.57564954662085, 86.34301233768537, 92.48975886805128, 90.32803301756365]\n",
      "Mean Prediction: 89.9\n",
      "Std Error (Prediction): 1.1\n",
      "\n",
      "Absolute Errors:\n",
      "Mean: 3.1\n",
      "Std Error: 1.1\n",
      "Mean Percent Error: 3.4%\n",
      "Std Percent Error: 1.2%\n",
      "\n",
      "Mean Errors:\n",
      "Mean: -3.1\n",
      "Std Error: 1.1\n",
      "Mean Percent Error: 3.4%\n",
      "Std Percent Error: 1.2%\n"
     ]
    }
   ],
   "source": [
    "from scripts.helper_functions import sample_results\n",
    "# Print result statistics for a given material\n",
    "\n",
    "# Set the material ID to print results for.\n",
    "ID = 0\n",
    "material = materials[ID]\n",
    "sample_results(material,pred_materials,errors_materials,ID)"
   ]
  },
  {
   "cell_type": "markdown",
   "id": "221e2a85",
   "metadata": {},
   "source": [
    "# Hyperparam results\n",
    "\n",
    "Optionally load and inspect results from hyperparameter optimization."
   ]
  },
  {
   "cell_type": "code",
   "execution_count": 9,
   "id": "1a464903",
   "metadata": {},
   "outputs": [
    {
     "name": "stdout",
     "output_type": "stream",
     "text": [
      "{'choice1': 4, 'choice2': 3, 'close_mesh': False, 'close_mesh_adv': True, 'cut_mesh': True, 'depth': 10, 'edge_threshold': 1, 'eps1': 0.1, 'eps2': 0.03, 'ground_level': 'auto', 'gt': 1, 'ldt': 0.1, 'min_points1': 10, 'min_points2': 10, 'overestimation': 0.88, 'segment_threshold': 0.02}\n"
     ]
    }
   ],
   "source": [
    "# If using saved hyperparam results:\n",
    "result_file = \"results/hyperparam_results.json\"\n",
    "material_params = load_hyperparam_search_results(result_file,print_results=False)\n",
    "material = 'mur'\n",
    "params = dict(material_params[material])\n",
    "print(params)\n",
    "\n",
    "# Unpack parameters\n",
    "#segment_threshold = params['segment_threshold']\n",
    "#crop_length       = params['crop_length']\n",
    "#choice1           = params['choice1']\n",
    "#eps1              = params['eps1']\n",
    "#min_points1       = params['min_points1']\n",
    "#choice2           = params['choice2']\n",
    "#eps2              = params['eps2']\n",
    "#min_points2       = params['min_points2']\n",
    "#depth             = params[\"depth\"]\n",
    "#ldt               = params['ldt']\n",
    "#cut_mesh          = params[\"cut_mesh\"]\n",
    "#close_mesh        = params[\"close_mesh\"]\n",
    "#ground_threshold  = params['gt']\n",
    "#overestimation    = params['overestimation']"
   ]
  }
 ],
 "metadata": {
  "kernelspec": {
   "display_name": "base",
   "language": "python",
   "name": "python3"
  },
  "language_info": {
   "codemirror_mode": {
    "name": "ipython",
    "version": 3
   },
   "file_extension": ".py",
   "mimetype": "text/x-python",
   "name": "python",
   "nbconvert_exporter": "python",
   "pygments_lexer": "ipython3",
   "version": "3.8.2"
  }
 },
 "nbformat": 4,
 "nbformat_minor": 5
}
